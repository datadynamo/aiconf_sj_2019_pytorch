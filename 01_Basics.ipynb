{
  "nbformat": 4,
  "nbformat_minor": 0,
  "metadata": {
    "colab": {
      "name": "01-Basics.ipynb",
      "version": "0.3.2",
      "provenance": [],
      "include_colab_link": true
    },
    "language_info": {
      "codemirror_mode": {
        "name": "ipython",
        "version": 3
      },
      "file_extension": ".py",
      "mimetype": "text/x-python",
      "name": "python",
      "nbconvert_exporter": "python",
      "pygments_lexer": "ipython3",
      "version": "3.6.3"
    },
    "kernelspec": {
      "display_name": "Python 3",
      "language": "python",
      "name": "python3"
    }
  },
  "cells": [
    {
      "cell_type": "markdown",
      "metadata": {
        "id": "view-in-github",
        "colab_type": "text"
      },
      "source": [
        "<a href=\"https://colab.research.google.com/github/datadynamo/aiconf_sj_2019_pytorch/blob/master/01_Basics.ipynb\" target=\"_parent\"><img src=\"https://colab.research.google.com/assets/colab-badge.svg\" alt=\"Open In Colab\"/></a>"
      ]
    },
    {
      "cell_type": "markdown",
      "metadata": {
        "id": "FS18BnjMZnf9",
        "colab_type": "text"
      },
      "source": [
        "# Pytorch.Org Basics"
      ]
    },
    {
      "cell_type": "markdown",
      "metadata": {
        "id": "iLu5JY7YZnf-",
        "colab_type": "text"
      },
      "source": [
        "Following tutorial on https://pytorch.org/tutorials/beginner/deep_learning_60min_blitz.html."
      ]
    },
    {
      "cell_type": "markdown",
      "metadata": {
        "id": "Tynu1gG_Znf_",
        "colab_type": "text"
      },
      "source": [
        "**What is Pytorch?**\n",
        "\n",
        "It’s a Python based scientific computing package targeted at two sets of audiences:\n",
        "\n",
        "- A replacement for NumPy to use the power of GPUs\n",
        "- A deep learning research platform that provides maximum flexibility and speed"
      ]
    },
    {
      "cell_type": "markdown",
      "metadata": {
        "id": "_rwMnLBdZngA",
        "colab_type": "text"
      },
      "source": [
        "## Tensors"
      ]
    },
    {
      "cell_type": "markdown",
      "metadata": {
        "id": "KzV1FixPZngB",
        "colab_type": "text"
      },
      "source": [
        "Tensors are similar to NumPy’s ndarrays, with the addition being that Tensors can also be used on a GPU to accelerate computing."
      ]
    },
    {
      "cell_type": "code",
      "metadata": {
        "id": "e7dpCTEsZngC",
        "colab_type": "code",
        "colab": {}
      },
      "source": [
        "from __future__ import print_function\n",
        "import torch"
      ],
      "execution_count": 0,
      "outputs": []
    },
    {
      "cell_type": "markdown",
      "metadata": {
        "id": "s_Caa_bRZngF",
        "colab_type": "text"
      },
      "source": [
        "Construct a 5x3 matrix, uninitialized:"
      ]
    },
    {
      "cell_type": "code",
      "metadata": {
        "id": "tLv3Zbd5ZngG",
        "colab_type": "code",
        "outputId": "47aa1d2c-3d55-4436-d00b-95835413b885",
        "colab": {
          "base_uri": "https://localhost:8080/",
          "height": 102
        }
      },
      "source": [
        "x = torch.empty(5, 3)\n",
        "print(x)"
      ],
      "execution_count": 0,
      "outputs": [
        {
          "output_type": "stream",
          "text": [
            "tensor([[1.4277e-37, 0.0000e+00, 4.4842e-44],\n",
            "        [0.0000e+00,        nan, 0.0000e+00],\n",
            "        [3.2905e+21, 2.6706e-06, 4.1910e+21],\n",
            "        [2.0973e-07, 5.3601e-08, 1.0314e-08],\n",
            "        [1.3224e-08, 2.0681e+20, 0.0000e+00]])\n"
          ],
          "name": "stdout"
        }
      ]
    },
    {
      "cell_type": "markdown",
      "metadata": {
        "id": "CB_JsqNpZngL",
        "colab_type": "text"
      },
      "source": [
        "Construct a randomly initialized matrix:"
      ]
    },
    {
      "cell_type": "code",
      "metadata": {
        "id": "sCGVOSknZngM",
        "colab_type": "code",
        "outputId": "0b7ce18f-d000-4f50-ca36-2589723992a0",
        "colab": {
          "base_uri": "https://localhost:8080/",
          "height": 102
        }
      },
      "source": [
        "x = torch.rand(5, 3)\n",
        "print(x)"
      ],
      "execution_count": 0,
      "outputs": [
        {
          "output_type": "stream",
          "text": [
            "tensor([[0.5269, 0.0224, 0.7735],\n",
            "        [0.8665, 0.8954, 0.3749],\n",
            "        [0.7608, 0.1300, 0.3776],\n",
            "        [0.3468, 0.9057, 0.4380],\n",
            "        [0.6903, 0.8046, 0.5421]])\n"
          ],
          "name": "stdout"
        }
      ]
    },
    {
      "cell_type": "markdown",
      "metadata": {
        "id": "z9fic4XxZngP",
        "colab_type": "text"
      },
      "source": [
        "Construct a matrix filled zeros and of dtype long:"
      ]
    },
    {
      "cell_type": "code",
      "metadata": {
        "id": "SW82UziWZngQ",
        "colab_type": "code",
        "outputId": "0fbf3a79-2213-47d9-ebb6-c4122f83066c",
        "colab": {
          "base_uri": "https://localhost:8080/",
          "height": 102
        }
      },
      "source": [
        "x = torch.zeros(5, 3, dtype=torch.long)\n",
        "print(x)"
      ],
      "execution_count": 0,
      "outputs": [
        {
          "output_type": "stream",
          "text": [
            "tensor([[0, 0, 0],\n",
            "        [0, 0, 0],\n",
            "        [0, 0, 0],\n",
            "        [0, 0, 0],\n",
            "        [0, 0, 0]])\n"
          ],
          "name": "stdout"
        }
      ]
    },
    {
      "cell_type": "markdown",
      "metadata": {
        "id": "fWoK6s8XZngS",
        "colab_type": "text"
      },
      "source": [
        "Construct a tensor directly from data:"
      ]
    },
    {
      "cell_type": "code",
      "metadata": {
        "id": "LZwNJ3JzZngT",
        "colab_type": "code",
        "outputId": "2bafdbc3-a2d1-4a6b-81fe-89183c60af06",
        "colab": {
          "base_uri": "https://localhost:8080/",
          "height": 34
        }
      },
      "source": [
        "x = torch.tensor([5.5, 3])\n",
        "print(x)"
      ],
      "execution_count": 0,
      "outputs": [
        {
          "output_type": "stream",
          "text": [
            "tensor([5.5000, 3.0000])\n"
          ],
          "name": "stdout"
        }
      ]
    },
    {
      "cell_type": "markdown",
      "metadata": {
        "id": "czAcpJBMZngV",
        "colab_type": "text"
      },
      "source": [
        "Or create a tensor based on an existing tensor. These methods will reuse properties of the input tensor, e.g. dtype, unless new values are provided by user"
      ]
    },
    {
      "cell_type": "code",
      "metadata": {
        "id": "Vgir5NZYZngW",
        "colab_type": "code",
        "outputId": "cd6cb65a-6124-457c-b944-4c492f2e2f3d",
        "colab": {
          "base_uri": "https://localhost:8080/",
          "height": 187
        }
      },
      "source": [
        "x = x.new_ones(5, 3, dtype=torch.double)      # new_* methods take in sizes\n",
        "print(x)\n",
        "\n",
        "x = torch.randn_like(x, dtype=torch.float)    # override dtype!\n",
        "print(x)                                      # result has the same size"
      ],
      "execution_count": 0,
      "outputs": [
        {
          "output_type": "stream",
          "text": [
            "tensor([[1., 1., 1.],\n",
            "        [1., 1., 1.],\n",
            "        [1., 1., 1.],\n",
            "        [1., 1., 1.],\n",
            "        [1., 1., 1.]], dtype=torch.float64)\n",
            "tensor([[ 1.8035, -0.8684,  1.1640],\n",
            "        [ 0.6827, -1.4051,  0.1688],\n",
            "        [ 1.6247, -0.2566,  0.2328],\n",
            "        [ 1.8673, -0.8199, -1.5806],\n",
            "        [ 0.7171,  0.6664,  0.6637]])\n"
          ],
          "name": "stdout"
        }
      ]
    },
    {
      "cell_type": "markdown",
      "metadata": {
        "id": "YkjP7CXCZngb",
        "colab_type": "text"
      },
      "source": [
        "Get its size:"
      ]
    },
    {
      "cell_type": "code",
      "metadata": {
        "id": "DtJPFO83Zngc",
        "colab_type": "code",
        "outputId": "de0c3acb-3c14-410b-c7b9-a00a621f55bb",
        "colab": {
          "base_uri": "https://localhost:8080/",
          "height": 34
        }
      },
      "source": [
        "print(x.size())"
      ],
      "execution_count": 0,
      "outputs": [
        {
          "output_type": "stream",
          "text": [
            "torch.Size([5, 3])\n"
          ],
          "name": "stdout"
        }
      ]
    },
    {
      "cell_type": "markdown",
      "metadata": {
        "id": "1eQPoRF2Zngf",
        "colab_type": "text"
      },
      "source": [
        "## Operations"
      ]
    },
    {
      "cell_type": "markdown",
      "metadata": {
        "id": "ZmJmupLWZngg",
        "colab_type": "text"
      },
      "source": [
        "There are multiple syntaxes for operations. In the following example, we will take a look at the addition operation."
      ]
    },
    {
      "cell_type": "markdown",
      "metadata": {
        "id": "Ym3e8SQEZngh",
        "colab_type": "text"
      },
      "source": [
        "Addition: syntax 1"
      ]
    },
    {
      "cell_type": "code",
      "metadata": {
        "id": "-nf38AQBZngi",
        "colab_type": "code",
        "outputId": "dc36d5f7-33ba-4040-87a0-97b8ccc8ab84",
        "colab": {
          "base_uri": "https://localhost:8080/",
          "height": 122
        }
      },
      "source": [
        "y = torch.rand(5, 3)\n",
        "print(x + y)"
      ],
      "execution_count": 0,
      "outputs": [
        {
          "output_type": "stream",
          "text": [
            "tensor([[ 2.0012, -0.0051,  1.3861],\n",
            "        [ 1.1264, -0.9260,  0.2609],\n",
            "        [ 1.9475, -0.2065,  0.8907],\n",
            "        [ 2.1075, -0.4859, -1.0582],\n",
            "        [ 1.5884,  1.5944,  1.1922]])\n"
          ],
          "name": "stdout"
        }
      ]
    },
    {
      "cell_type": "markdown",
      "metadata": {
        "id": "PkUE45gYZngq",
        "colab_type": "text"
      },
      "source": [
        "Syntax 2."
      ]
    },
    {
      "cell_type": "code",
      "metadata": {
        "id": "I2NC0pPuZngr",
        "colab_type": "code",
        "outputId": "70468682-6367-4679-f4bb-4c818dc7e429",
        "colab": {
          "base_uri": "https://localhost:8080/",
          "height": 122
        }
      },
      "source": [
        "print(torch.add(x, y))"
      ],
      "execution_count": 0,
      "outputs": [
        {
          "output_type": "stream",
          "text": [
            "tensor([[ 2.0012, -0.0051,  1.3861],\n",
            "        [ 1.1264, -0.9260,  0.2609],\n",
            "        [ 1.9475, -0.2065,  0.8907],\n",
            "        [ 2.1075, -0.4859, -1.0582],\n",
            "        [ 1.5884,  1.5944,  1.1922]])\n"
          ],
          "name": "stdout"
        }
      ]
    },
    {
      "cell_type": "markdown",
      "metadata": {
        "id": "ZW_LnahJZngt",
        "colab_type": "text"
      },
      "source": [
        "Addition: providing an output tensor as argument"
      ]
    },
    {
      "cell_type": "code",
      "metadata": {
        "id": "7zawTTh3Zngu",
        "colab_type": "code",
        "outputId": "cdbfd227-ebaf-4a17-e001-f8212c235c13",
        "colab": {
          "base_uri": "https://localhost:8080/",
          "height": 122
        }
      },
      "source": [
        "result = torch.empty(5, 3)\n",
        "torch.add(x, y, out=result)\n",
        "print(result)"
      ],
      "execution_count": 0,
      "outputs": [
        {
          "output_type": "stream",
          "text": [
            "tensor([[ 2.0012, -0.0051,  1.3861],\n",
            "        [ 1.1264, -0.9260,  0.2609],\n",
            "        [ 1.9475, -0.2065,  0.8907],\n",
            "        [ 2.1075, -0.4859, -1.0582],\n",
            "        [ 1.5884,  1.5944,  1.1922]])\n"
          ],
          "name": "stdout"
        }
      ]
    },
    {
      "cell_type": "markdown",
      "metadata": {
        "id": "ZGsNpyQmZngx",
        "colab_type": "text"
      },
      "source": [
        "Addition: in-place"
      ]
    },
    {
      "cell_type": "code",
      "metadata": {
        "id": "G9_2RlhcZngy",
        "colab_type": "code",
        "outputId": "f402e95d-d099-4c87-f9f9-1adcd137c14d",
        "colab": {
          "base_uri": "https://localhost:8080/",
          "height": 122
        }
      },
      "source": [
        "# adds x to y\n",
        "y.add_(x)\n",
        "print(y)"
      ],
      "execution_count": 0,
      "outputs": [
        {
          "output_type": "stream",
          "text": [
            "tensor([[ 2.0012, -0.0051,  1.3861],\n",
            "        [ 1.1264, -0.9260,  0.2609],\n",
            "        [ 1.9475, -0.2065,  0.8907],\n",
            "        [ 2.1075, -0.4859, -1.0582],\n",
            "        [ 1.5884,  1.5944,  1.1922]])\n"
          ],
          "name": "stdout"
        }
      ]
    },
    {
      "cell_type": "markdown",
      "metadata": {
        "id": "dJU4T51zZng2",
        "colab_type": "text"
      },
      "source": [
        "You can use standard NumPy-like indexing with all bells and whistles!"
      ]
    },
    {
      "cell_type": "code",
      "metadata": {
        "id": "uIrgokeTZng3",
        "colab_type": "code",
        "outputId": "32aabe7d-7a8c-41e7-d790-88d1ee0b95e9",
        "colab": {
          "base_uri": "https://localhost:8080/",
          "height": 54
        }
      },
      "source": [
        "print(x[:, 1])"
      ],
      "execution_count": 0,
      "outputs": [
        {
          "output_type": "stream",
          "text": [
            "tensor([-0.8684, -1.4051, -0.2566, -0.8199,  0.6664])\n"
          ],
          "name": "stdout"
        }
      ]
    },
    {
      "cell_type": "markdown",
      "metadata": {
        "id": "0zgl28lQZng8",
        "colab_type": "text"
      },
      "source": [
        "Resizing: If you want to resize/reshape tensor, you can use torch.view:"
      ]
    },
    {
      "cell_type": "code",
      "metadata": {
        "id": "kteMK_vtZng-",
        "colab_type": "code",
        "outputId": "c9c3d5d2-61b0-4726-fab2-518c070af68f",
        "colab": {
          "base_uri": "https://localhost:8080/",
          "height": 54
        }
      },
      "source": [
        "x = torch.randn(4, 4)\n",
        "y = x.view(16)\n",
        "z = x.view(-1, 8)  # the size -1 is inferred from other dimensions\n",
        "print(x.size(), y.size(), z.size())"
      ],
      "execution_count": 0,
      "outputs": [
        {
          "output_type": "stream",
          "text": [
            "torch.Size([4, 4]) torch.Size([16]) torch.Size([2, 8])\n"
          ],
          "name": "stdout"
        }
      ]
    },
    {
      "cell_type": "markdown",
      "metadata": {
        "id": "v40WQGSFZnhE",
        "colab_type": "text"
      },
      "source": [
        "If you have a one element tensor, use .item() to get the value as a Python number"
      ]
    },
    {
      "cell_type": "code",
      "metadata": {
        "id": "7TW-NLdBZnhF",
        "colab_type": "code",
        "outputId": "dbdbf8f1-6a67-42c4-ce6c-985750d65234",
        "colab": {
          "base_uri": "https://localhost:8080/",
          "height": 71
        }
      },
      "source": [
        "x = torch.randn(1)\n",
        "print(x)\n",
        "print(x.item())"
      ],
      "execution_count": 0,
      "outputs": [
        {
          "output_type": "stream",
          "text": [
            "tensor([1.1693])\n",
            "1.1693456172943115\n"
          ],
          "name": "stdout"
        }
      ]
    },
    {
      "cell_type": "markdown",
      "metadata": {
        "id": "6H8fKRtfZnhK",
        "colab_type": "text"
      },
      "source": [
        "**Read later**\n",
        "\n",
        "100+ Tensor operations, including transposing, indexing, slicing, mathematical operations, linear algebra, random numbers, etc., are described at http://pytorch.org/docs/torch."
      ]
    },
    {
      "cell_type": "markdown",
      "metadata": {
        "id": "lc9Ajc1WZnhL",
        "colab_type": "text"
      },
      "source": [
        "-----"
      ]
    },
    {
      "cell_type": "markdown",
      "metadata": {
        "id": "4alauRcvZnhM",
        "colab_type": "text"
      },
      "source": [
        "## Autograd: automatic differentiation\n",
        "    \n",
        "Central to all neural networks in PyTorch is the `autograd` package. Let’s first briefly visit this, and we will then go to training our first neural network.\n",
        "\n",
        "The `autograd` package provides automatic differentiation for all operations on Tensors. It is a define-by-run framework, which means that your backprop is defined by how your code is run, and that every single iteration can be different.\n",
        "\n",
        "Let us see this in more simple terms with some examples."
      ]
    },
    {
      "cell_type": "markdown",
      "metadata": {
        "id": "DiSZIXRjZnhQ",
        "colab_type": "text"
      },
      "source": [
        "### Tensor\n",
        "\n",
        "`torch.Tensor` is the central class of the package. If you set its attribute `.requires_grad` as `True`, it starts to track all operations on it. When you finish your computation you can call `.backward()` and have all the gradients computed automatically. The gradient for this tensor will be accumulated into `.grad` attribute.\n",
        "\n",
        "To stop a tensor from tracking history, you can call `.detach()` to detach it from the computation history, and to prevent future computation from being tracked.\n",
        "\n",
        "To prevent tracking history (and using memory), you can also wrap the code block in with `torch.no_grad()`:. This can be particularly helpful when evaluating a model because the model may have trainable parameters with `requires_grad=True`, but for which we don’t need the gradients.\n",
        "\n",
        "There’s one more class which is very important for autograd implementation - a `Function`.\n",
        "\n",
        "`Tensor` and `Function` are interconnected and build up an acyclic graph, that encodes a complete history of computation. Each tensor has a `.grad_fn` attribute that references a Function that has created the `Tensor` (except for Tensors created by the user - their `grad_fn is None`).\n",
        "\n",
        "If you want to compute the derivatives, you can call `.backward()` on a `Tensor`. If `Tensor` is a scalar (i.e. it holds a one element data), you don’t need to specify any arguments to `backward()`, however if it has more elements, you need to specify a `gradient` argument that is a tensor of matching shape."
      ]
    },
    {
      "cell_type": "code",
      "metadata": {
        "id": "NzY__5bJZnhR",
        "colab_type": "code",
        "colab": {}
      },
      "source": [
        "import torch"
      ],
      "execution_count": 0,
      "outputs": []
    },
    {
      "cell_type": "markdown",
      "metadata": {
        "id": "28H3Sg0xZnhT",
        "colab_type": "text"
      },
      "source": [
        "Create a tensor and set `requires_grad=True` to track computation with it."
      ]
    },
    {
      "cell_type": "code",
      "metadata": {
        "id": "LcyA8BtLZnhT",
        "colab_type": "code",
        "outputId": "65fa4b5e-a237-46a6-9f0c-c56f2adff343",
        "colab": {
          "base_uri": "https://localhost:8080/",
          "height": 71
        }
      },
      "source": [
        "x = torch.ones(2, 2, requires_grad=True)\n",
        "print(x)"
      ],
      "execution_count": 0,
      "outputs": [
        {
          "output_type": "stream",
          "text": [
            "tensor([[1., 1.],\n",
            "        [1., 1.]], requires_grad=True)\n"
          ],
          "name": "stdout"
        }
      ]
    },
    {
      "cell_type": "markdown",
      "metadata": {
        "id": "EsdS8fiPZnhV",
        "colab_type": "text"
      },
      "source": [
        "Do an operation of tensor:"
      ]
    },
    {
      "cell_type": "code",
      "metadata": {
        "id": "jZ2yrAv_ZnhW",
        "colab_type": "code",
        "outputId": "0e869d58-abeb-44fe-e92d-81a63dbd4004",
        "colab": {
          "base_uri": "https://localhost:8080/",
          "height": 71
        }
      },
      "source": [
        "y = x + 2\n",
        "print(y)"
      ],
      "execution_count": 0,
      "outputs": [
        {
          "output_type": "stream",
          "text": [
            "tensor([[3., 3.],\n",
            "        [3., 3.]], grad_fn=<AddBackward0>)\n"
          ],
          "name": "stdout"
        }
      ]
    },
    {
      "cell_type": "markdown",
      "metadata": {
        "id": "qsjOoXiJZnhY",
        "colab_type": "text"
      },
      "source": [
        "`y` was created as a result of an operation, so it has a `grad_fn`."
      ]
    },
    {
      "cell_type": "code",
      "metadata": {
        "id": "CAfuD5m_ZnhZ",
        "colab_type": "code",
        "outputId": "6fe409e9-1ad0-402c-bf3e-6e55a1ec440f",
        "colab": {
          "base_uri": "https://localhost:8080/",
          "height": 54
        }
      },
      "source": [
        "print(y.grad_fn)"
      ],
      "execution_count": 0,
      "outputs": [
        {
          "output_type": "stream",
          "text": [
            "<AddBackward0 object at 0x7f5047426b00>\n"
          ],
          "name": "stdout"
        }
      ]
    },
    {
      "cell_type": "markdown",
      "metadata": {
        "id": "lqe0MEwiZnhb",
        "colab_type": "text"
      },
      "source": [
        "Do more operations on y"
      ]
    },
    {
      "cell_type": "code",
      "metadata": {
        "id": "A0hxELGUZnhd",
        "colab_type": "code",
        "outputId": "f2036de3-56cd-4961-8e60-86ab4a1f903a",
        "colab": {
          "base_uri": "https://localhost:8080/",
          "height": 71
        }
      },
      "source": [
        "z = y * y * 3\n",
        "out = z.mean()\n",
        "\n",
        "print(z, out)"
      ],
      "execution_count": 0,
      "outputs": [
        {
          "output_type": "stream",
          "text": [
            "tensor([[27., 27.],\n",
            "        [27., 27.]], grad_fn=<MulBackward0>) tensor(27., grad_fn=<MeanBackward1>)\n"
          ],
          "name": "stdout"
        }
      ]
    },
    {
      "cell_type": "markdown",
      "metadata": {
        "id": "b9lDOZIGZnhh",
        "colab_type": "text"
      },
      "source": [
        "`.requires_grad_( ... )` changes an existing Tensor’s `requires_grad` flag in-place. The input flag defaults to `False` if not given."
      ]
    },
    {
      "cell_type": "code",
      "metadata": {
        "id": "hzI1SoPcZnhh",
        "colab_type": "code",
        "outputId": "01211ef9-b7c6-4666-81ac-b151e9b68f09",
        "colab": {
          "base_uri": "https://localhost:8080/",
          "height": 88
        }
      },
      "source": [
        "a = torch.randn(2, 2)\n",
        "a = ((a * 3) / (a - 1))\n",
        "print(a.requires_grad)\n",
        "\n",
        "a.requires_grad_(True)\n",
        "print(a.requires_grad)\n",
        "\n",
        "b = (a * a).sum()\n",
        "print(b.grad_fn)"
      ],
      "execution_count": 0,
      "outputs": [
        {
          "output_type": "stream",
          "text": [
            "False\n",
            "True\n",
            "<SumBackward0 object at 0x7f504746eb70>\n"
          ],
          "name": "stdout"
        }
      ]
    },
    {
      "cell_type": "markdown",
      "metadata": {
        "id": "L5vU15i_Znhk",
        "colab_type": "text"
      },
      "source": [
        "### Gradients"
      ]
    },
    {
      "cell_type": "markdown",
      "metadata": {
        "id": "wsanhXeQZnhl",
        "colab_type": "text"
      },
      "source": [
        "Let’s backprop now because `out` contains a single scalar, `out.backward()` is equivalent to `out.backward(torch.tensor(1))`."
      ]
    },
    {
      "cell_type": "code",
      "metadata": {
        "id": "4hpVw--mZnhl",
        "colab_type": "code",
        "colab": {}
      },
      "source": [
        "out.backward()"
      ],
      "execution_count": 0,
      "outputs": []
    },
    {
      "cell_type": "markdown",
      "metadata": {
        "id": "AMClzqU_Znho",
        "colab_type": "text"
      },
      "source": [
        "print gradients d(out)/dx"
      ]
    },
    {
      "cell_type": "code",
      "metadata": {
        "id": "oTwGsX5_Znhp",
        "colab_type": "code",
        "outputId": "ec7a1ef7-e54d-4892-816c-541e6cd624b3",
        "colab": {
          "base_uri": "https://localhost:8080/",
          "height": 71
        }
      },
      "source": [
        "print(x.grad)"
      ],
      "execution_count": 0,
      "outputs": [
        {
          "output_type": "stream",
          "text": [
            "tensor([[4.5000, 4.5000],\n",
            "        [4.5000, 4.5000]])\n"
          ],
          "name": "stdout"
        }
      ]
    },
    {
      "cell_type": "markdown",
      "metadata": {
        "id": "-4s3HUFzZnht",
        "colab_type": "text"
      },
      "source": [
        "-----"
      ]
    },
    {
      "cell_type": "markdown",
      "metadata": {
        "id": "gPYlTQzMZnht",
        "colab_type": "text"
      },
      "source": [
        "## Neural Networks"
      ]
    },
    {
      "cell_type": "markdown",
      "metadata": {
        "id": "tfUTVxXOZnhx",
        "colab_type": "text"
      },
      "source": [
        "Neural networks can be constructed using the `torch.nn` package.\n",
        "\n",
        "Now that you had a glimpse of `autograd`, `nn` depends on `autograd` to define models and differentiate them. An `nn.Module` contains layers, and a method `forward(input)` that returns the `output`."
      ]
    },
    {
      "cell_type": "markdown",
      "metadata": {
        "id": "SLZdtH3IZnhy",
        "colab_type": "text"
      },
      "source": [
        "For example, look at this network that classifies digit images:"
      ]
    },
    {
      "cell_type": "markdown",
      "metadata": {
        "id": "aKdp6IqhZnhy",
        "colab_type": "text"
      },
      "source": [
        "<img src=\"https://pytorch.org/tutorials/_images/mnist.png\">"
      ]
    },
    {
      "cell_type": "markdown",
      "metadata": {
        "id": "K6Qi08a4Znhz",
        "colab_type": "text"
      },
      "source": [
        "A typical training procedure for a neural network is as follows:\n",
        "\n",
        "1. Define the neural network that has some learnable parameters (or weights)\n",
        "2. Iterate over a dataset of inputs\n",
        "3. Process input through the network\n",
        "4. Compute the loss (how far is the output from being correct)\n",
        "5. Propagate gradients back into the network’s parameters\n",
        "6. Update the weights of the network, typically using a simple update rule: weight = weight - learning_rate * gradient"
      ]
    },
    {
      "cell_type": "markdown",
      "metadata": {
        "id": "RmYv2aDpZnhz",
        "colab_type": "text"
      },
      "source": [
        "### Define Feed-Forward Network"
      ]
    },
    {
      "cell_type": "markdown",
      "metadata": {
        "id": "l4YKORAIZnh0",
        "colab_type": "text"
      },
      "source": [
        "Let’s define this feed-forward network:"
      ]
    },
    {
      "cell_type": "code",
      "metadata": {
        "id": "QZiIrkHhZnh0",
        "colab_type": "code",
        "outputId": "2e6b5a2b-dce5-471b-f70e-57648db930fa",
        "colab": {
          "base_uri": "https://localhost:8080/",
          "height": 136
        }
      },
      "source": [
        "import torch\n",
        "import torch.nn as nn\n",
        "import torch.nn.functional as F\n",
        "\n",
        "\n",
        "class Net(nn.Module):\n",
        "\n",
        "    def __init__(self):\n",
        "        super(Net, self).__init__()\n",
        "        # 1 input image channel, 6 output channels, 5x5 square convolution\n",
        "        # kernel\n",
        "        self.conv1 = nn.Conv2d(1, 6, 5)\n",
        "        self.conv2 = nn.Conv2d(6, 16, 5)\n",
        "        # an affine operation: y = Wx + b\n",
        "        self.fc1 = nn.Linear(16 * 5 * 5, 120)\n",
        "        self.fc2 = nn.Linear(120, 84)\n",
        "        self.fc3 = nn.Linear(84, 10)\n",
        "\n",
        "    def forward(self, x):\n",
        "        # Max pooling over a (2, 2) window\n",
        "        x = F.max_pool2d(F.relu(self.conv1(x)), (2, 2))\n",
        "        # If the size is a square you can only specify a single number\n",
        "        x = F.max_pool2d(F.relu(self.conv2(x)), 2)\n",
        "        x = x.view(-1, self.num_flat_features(x))\n",
        "        x = F.relu(self.fc1(x))\n",
        "        x = F.relu(self.fc2(x))\n",
        "        x = self.fc3(x)\n",
        "        return x\n",
        "\n",
        "    def num_flat_features(self, x):\n",
        "        size = x.size()[1:]  # all dimensions except the batch dimension\n",
        "        num_features = 1\n",
        "        for s in size:\n",
        "            num_features *= s\n",
        "        return num_features\n",
        "\n",
        "\n",
        "net = Net()\n",
        "print(net)"
      ],
      "execution_count": 0,
      "outputs": [
        {
          "output_type": "stream",
          "text": [
            "Net(\n",
            "  (conv1): Conv2d(1, 6, kernel_size=(5, 5), stride=(1, 1))\n",
            "  (conv2): Conv2d(6, 16, kernel_size=(5, 5), stride=(1, 1))\n",
            "  (fc1): Linear(in_features=400, out_features=120, bias=True)\n",
            "  (fc2): Linear(in_features=120, out_features=84, bias=True)\n",
            "  (fc3): Linear(in_features=84, out_features=10, bias=True)\n",
            ")\n"
          ],
          "name": "stdout"
        }
      ]
    },
    {
      "cell_type": "markdown",
      "metadata": {
        "id": "hGTleemuZnh3",
        "colab_type": "text"
      },
      "source": [
        "You just have to define the `forward` function, and the `backward` function (where gradients are computed) is automatically defined for you using `autograd`. You can use any of the Tensor operations in the `forward` function."
      ]
    },
    {
      "cell_type": "markdown",
      "metadata": {
        "id": "JmxW6bdiZnh3",
        "colab_type": "text"
      },
      "source": [
        "The learnable parameters of a model are returned by net.parameters()"
      ]
    },
    {
      "cell_type": "code",
      "metadata": {
        "id": "4MTZCp-8Znh4",
        "colab_type": "code",
        "outputId": "e98c85e7-2df5-4b19-b83d-eb950ccb784d",
        "colab": {
          "base_uri": "https://localhost:8080/",
          "height": 51
        }
      },
      "source": [
        "params = list(net.parameters())\n",
        "print(len(params))\n",
        "print(params[0].size())  # conv1's .weight"
      ],
      "execution_count": 0,
      "outputs": [
        {
          "output_type": "stream",
          "text": [
            "10\n",
            "torch.Size([6, 1, 5, 5])\n"
          ],
          "name": "stdout"
        }
      ]
    },
    {
      "cell_type": "markdown",
      "metadata": {
        "id": "THVnLWt2Znh8",
        "colab_type": "text"
      },
      "source": [
        "Let try a random 32x32 input Note: Expected input size to this net(LeNet) is 32x32. To use this net on MNIST dataset, please resize the images from the dataset to 32x32."
      ]
    },
    {
      "cell_type": "code",
      "metadata": {
        "id": "Z5fZOVygZnh8",
        "colab_type": "code",
        "outputId": "1da9bf34-411e-40d3-d127-2e4626578250",
        "colab": {
          "base_uri": "https://localhost:8080/",
          "height": 51
        }
      },
      "source": [
        "input = torch.randn(1, 1, 32, 32)\n",
        "out = net(input)\n",
        "print(out)"
      ],
      "execution_count": 0,
      "outputs": [
        {
          "output_type": "stream",
          "text": [
            "tensor([[-0.0306, -0.0374,  0.0137, -0.1174,  0.0726,  0.1296, -0.0023, -0.0635,\n",
            "         -0.0251,  0.1375]], grad_fn=<AddmmBackward>)\n"
          ],
          "name": "stdout"
        }
      ]
    },
    {
      "cell_type": "markdown",
      "metadata": {
        "id": "UXcFaNoyZnh_",
        "colab_type": "text"
      },
      "source": [
        "Zero the gradient buffers of all parameters and backprop with random gradients:"
      ]
    },
    {
      "cell_type": "code",
      "metadata": {
        "id": "5DkMVHVUZniD",
        "colab_type": "code",
        "colab": {}
      },
      "source": [
        "net.zero_grad()\n",
        "out.backward(torch.randn(1, 10))"
      ],
      "execution_count": 0,
      "outputs": []
    },
    {
      "cell_type": "markdown",
      "metadata": {
        "id": "z-CCxIaEZniF",
        "colab_type": "text"
      },
      "source": [
        "** Note **\n",
        "\n",
        "`torch.nn` only supports mini-batches. The entire `torch.nn` package only supports inputs that are a mini-batch of samples, and not a single sample.\n",
        "\n",
        "For example, `nn.Conv2d` will take in a 4D Tensor of nSamples x nChannels x Height x Width.\n",
        "\n",
        "If you have a single sample, just use `input.unsqueeze(0)` to add a fake batch dimension."
      ]
    },
    {
      "cell_type": "markdown",
      "metadata": {
        "id": "Wx9ySVkYZniG",
        "colab_type": "text"
      },
      "source": [
        "At this point, we covered:\n",
        "- Defining a neural network\n",
        "- Processing inputs and calling backward\n",
        "\n",
        "Still Left:\n",
        "- Computing the loss\n",
        "- Updating the weights of the network"
      ]
    },
    {
      "cell_type": "markdown",
      "metadata": {
        "id": "y_Ub_YfaZniH",
        "colab_type": "text"
      },
      "source": [
        "### Loss Function"
      ]
    },
    {
      "cell_type": "markdown",
      "metadata": {
        "id": "u56HZj15ZniH",
        "colab_type": "text"
      },
      "source": [
        "A loss function takes the (output, target) pair of inputs, and computes a value that estimates how far away the output is from the target.\n",
        "\n",
        "There are several different loss functions under the `nn` package . A simple loss is: `nn.MSELoss` which computes the mean-squared error between the input and the target."
      ]
    },
    {
      "cell_type": "markdown",
      "metadata": {
        "id": "I3mWod7QZniJ",
        "colab_type": "text"
      },
      "source": [
        "For example:"
      ]
    },
    {
      "cell_type": "code",
      "metadata": {
        "id": "z4T0H-2iZniK",
        "colab_type": "code",
        "outputId": "7511b1e4-e5cb-4ea5-cb96-4206d3e6e3e3",
        "colab": {
          "base_uri": "https://localhost:8080/",
          "height": 54
        }
      },
      "source": [
        "output = net(input)\n",
        "target = torch.randn(10) # a dummy target, for example\n",
        "target = target.view(1, -1) # make it the same shape as output\n",
        "criterion = nn.MSELoss()\n",
        "\n",
        "loss = criterion(output, target)\n",
        "print(loss)"
      ],
      "execution_count": 0,
      "outputs": [
        {
          "output_type": "stream",
          "text": [
            "tensor(0.7186, grad_fn=<MseLossBackward>)\n"
          ],
          "name": "stdout"
        }
      ]
    },
    {
      "cell_type": "markdown",
      "metadata": {
        "id": "4GuKX27LZniO",
        "colab_type": "text"
      },
      "source": [
        "Now, if you follow loss in the backward direction, using its `.grad_fn` attribute, you will see a graph of computations that looks like this:"
      ]
    },
    {
      "cell_type": "markdown",
      "metadata": {
        "id": "k4ONVVbMZniO",
        "colab_type": "text"
      },
      "source": [
        "``\n",
        "input -> conv2d -> relu -> maxpool2d -> conv2d -> relu -> maxpool2d\n",
        "      -> view -> linear -> relu -> linear -> relu -> linear\n",
        "      -> MSELoss\n",
        "      -> loss\n",
        "``"
      ]
    },
    {
      "cell_type": "markdown",
      "metadata": {
        "id": "7dnCnwxjZniP",
        "colab_type": "text"
      },
      "source": [
        "So, when we call `loss.backward()`, the whole graph is differentiated w.r.t. the loss, and all Tensors in the graph that has `requires_grad=True` will have their `.grad` Tensor accumulated with the gradient."
      ]
    },
    {
      "cell_type": "markdown",
      "metadata": {
        "id": "bgib_H8UZniP",
        "colab_type": "text"
      },
      "source": [
        "For illustration, let us follow a few steps backward:"
      ]
    },
    {
      "cell_type": "code",
      "metadata": {
        "id": "x5at4OxvZniQ",
        "colab_type": "code",
        "outputId": "dbc62ee8-86a8-4799-899d-3380cbd979d0",
        "colab": {
          "base_uri": "https://localhost:8080/",
          "height": 88
        }
      },
      "source": [
        "print(loss.grad_fn) # MSELoss\n",
        "print(loss.grad_fn.next_functions[0][0]) # Linear\n",
        "print(loss.grad_fn.next_functions[0][0].next_functions[0][0]) # ReLU"
      ],
      "execution_count": 0,
      "outputs": [
        {
          "output_type": "stream",
          "text": [
            "<MseLossBackward object at 0x7f50473f3f60>\n",
            "<AddmmBackward object at 0x7f50473f3f60>\n",
            "<AccumulateGrad object at 0x7f504746e0b8>\n"
          ],
          "name": "stdout"
        }
      ]
    },
    {
      "cell_type": "markdown",
      "metadata": {
        "id": "w07gdaXjZniU",
        "colab_type": "text"
      },
      "source": [
        "### Backprop"
      ]
    },
    {
      "cell_type": "markdown",
      "metadata": {
        "id": "jBs6Ad0mZniU",
        "colab_type": "text"
      },
      "source": [
        "To backpropagate the error all we have to do is to `loss.backward()`. You need to clear the existing gradients though, else gradients will be accumulated to existing gradients.\n",
        "\n",
        "Now we shall call `loss.backward()`, and have a look at conv1’s bias gradients before and after the backward."
      ]
    },
    {
      "cell_type": "code",
      "metadata": {
        "id": "QOxuLzsjZniV",
        "colab_type": "code",
        "outputId": "c4f63c6b-ba8d-48a4-b4a9-489837ab1b02",
        "colab": {
          "base_uri": "https://localhost:8080/",
          "height": 85
        }
      },
      "source": [
        "net.zero_grad() # zeroes the gradient buffers of all parameters\n",
        "\n",
        "print('conv1.bias.grad before backward')\n",
        "print(net.conv1.bias.grad)\n",
        "\n",
        "loss.backward()\n",
        "\n",
        "print('conv1.bias.grad after backward')\n",
        "print(net.conv1.bias.grad)"
      ],
      "execution_count": 0,
      "outputs": [
        {
          "output_type": "stream",
          "text": [
            "conv1.bias.grad before backward\n",
            "tensor([0., 0., 0., 0., 0., 0.])\n",
            "conv1.bias.grad after backward\n",
            "tensor([-0.0023,  0.0002, -0.0066,  0.0140, -0.0038, -0.0064])\n"
          ],
          "name": "stdout"
        }
      ]
    },
    {
      "cell_type": "markdown",
      "metadata": {
        "id": "8owLWAinZniX",
        "colab_type": "text"
      },
      "source": [
        "### Update the weights"
      ]
    },
    {
      "cell_type": "markdown",
      "metadata": {
        "id": "-oR_yhAIZniY",
        "colab_type": "text"
      },
      "source": [
        "The simplest update rule used in practice is the Stochastic Gradient Descent (SGD):"
      ]
    },
    {
      "cell_type": "markdown",
      "metadata": {
        "id": "TmHmop2GZniY",
        "colab_type": "text"
      },
      "source": [
        "`weight = weight - learning_rate * gradient`"
      ]
    },
    {
      "cell_type": "markdown",
      "metadata": {
        "id": "mWRzRmH1ZniZ",
        "colab_type": "text"
      },
      "source": [
        "We can implement this using simple python code:"
      ]
    },
    {
      "cell_type": "code",
      "metadata": {
        "id": "nqreT01AZniZ",
        "colab_type": "code",
        "colab": {}
      },
      "source": [
        "learning_rate = 0.01\n",
        "for f in net.parameters():\n",
        "    f.data.sub_(f.grad.data * learning_rate)"
      ],
      "execution_count": 0,
      "outputs": []
    },
    {
      "cell_type": "markdown",
      "metadata": {
        "id": "IxcbWmKZZnic",
        "colab_type": "text"
      },
      "source": [
        "However, as you use neural networks, you want to use various different update rules such as SGD, Nesterov-SGD, Adam, RMSProp, etc. To enable this, we built a small package: `torch.optim` that implements all these methods. Using it is very simple:"
      ]
    },
    {
      "cell_type": "code",
      "metadata": {
        "id": "xryGKyEHZnid",
        "colab_type": "code",
        "colab": {}
      },
      "source": [
        "import torch.optim as optim\n",
        "\n",
        "# create your optimizer\n",
        "optimizer = optim.SGD(net.parameters(), lr=0.01)\n",
        "\n",
        "# in your training loop\n",
        "optimizer.zero_grad()              # zero the gradient buffers\n",
        "output = net(input)\n",
        "loss = criterion(output, target)\n",
        "loss.backward()\n",
        "optimizer.step()                   # does the update"
      ],
      "execution_count": 0,
      "outputs": []
    },
    {
      "cell_type": "markdown",
      "metadata": {
        "id": "DBnL6pRvZnie",
        "colab_type": "text"
      },
      "source": [
        "-----"
      ]
    }
  ]
}