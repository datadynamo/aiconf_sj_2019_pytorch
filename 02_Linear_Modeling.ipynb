{
  "nbformat": 4,
  "nbformat_minor": 0,
  "metadata": {
    "colab": {
      "name": "02-Linear Modeling.ipynb",
      "version": "0.3.2",
      "provenance": [],
      "include_colab_link": true
    },
    "language_info": {
      "codemirror_mode": {
        "name": "ipython",
        "version": 3
      },
      "file_extension": ".py",
      "mimetype": "text/x-python",
      "name": "python",
      "nbconvert_exporter": "python",
      "pygments_lexer": "ipython3",
      "version": "3.6.3"
    },
    "kernelspec": {
      "display_name": "Python 3",
      "language": "python",
      "name": "python3"
    }
  },
  "cells": [
    {
      "cell_type": "markdown",
      "metadata": {
        "id": "view-in-github",
        "colab_type": "text"
      },
      "source": [
        "<a href=\"https://colab.research.google.com/github/datadynamo/aiconf_sj_2019_pytorch/blob/master/02_Linear_Modeling.ipynb\" target=\"_parent\"><img src=\"https://colab.research.google.com/assets/colab-badge.svg\" alt=\"Open In Colab\"/></a>"
      ]
    },
    {
      "cell_type": "markdown",
      "metadata": {
        "id": "LCNNo1aUZnif",
        "colab_type": "text"
      },
      "source": [
        "## Example: Linear Regression\n",
        "\n",
        "This follows a simple example from https://github.com/yunjey/pytorch-tutorial."
      ]
    },
    {
      "cell_type": "code",
      "metadata": {
        "id": "NPBsTutcZnif",
        "colab_type": "code",
        "colab": {}
      },
      "source": [
        "from __future__ import print_function\n",
        "import numpy as np\n",
        "import matplotlib.pyplot as plt\n",
        "import torch\n",
        "import torch.nn as nn\n",
        "import torch.nn.functional as F"
      ],
      "execution_count": 0,
      "outputs": []
    },
    {
      "cell_type": "markdown",
      "metadata": {
        "id": "IauIrSTqZnih",
        "colab_type": "text"
      },
      "source": [
        "Define model parameters"
      ]
    },
    {
      "cell_type": "code",
      "metadata": {
        "id": "c-S_cGewZnih",
        "colab_type": "code",
        "colab": {}
      },
      "source": [
        "NUM_EPOCHS    = 80\n",
        "LEARNING_RATE = 0.001"
      ],
      "execution_count": 0,
      "outputs": []
    },
    {
      "cell_type": "markdown",
      "metadata": {
        "id": "7giN-uRHZnik",
        "colab_type": "text"
      },
      "source": [
        "Create random toy data"
      ]
    },
    {
      "cell_type": "code",
      "metadata": {
        "id": "aSqhWqOeZnil",
        "colab_type": "code",
        "colab": {}
      },
      "source": [
        "x_train = np.linspace(0, 1, num = 100, dtype = np.float32) \\\n",
        "            .reshape(100, 1)\n",
        "epsilon = np.random.normal(0, 1, size=100).astype('f') \\\n",
        "            .reshape(100, 1)\n",
        "w = 2.0\n",
        "b = 0.5\n",
        "y_train = w * x_train + b + epsilon"
      ],
      "execution_count": 0,
      "outputs": []
    },
    {
      "cell_type": "markdown",
      "metadata": {
        "id": "h7PsZc5NZnin",
        "colab_type": "text"
      },
      "source": [
        "Plot toy data"
      ]
    },
    {
      "cell_type": "code",
      "metadata": {
        "id": "YLwphH1wZnin",
        "colab_type": "code",
        "outputId": "ccb2f26d-7f6c-4f13-980d-d4c45f40e69f",
        "colab": {
          "base_uri": "https://localhost:8080/",
          "height": 268
        }
      },
      "source": [
        "plt.plot(x_train, y_train, 'ro', label='Toy data')\n",
        "plt.show()"
      ],
      "execution_count": 4,
      "outputs": [
        {
          "output_type": "display_data",
          "data": {
            "image/png": "[encoded data removed]",
            "text/plain": [
              "<Figure size 432x288 with 1 Axes>"
            ]
          },
          "metadata": {
            "tags": []
          }
        }
      ]
    },
    {
      "cell_type": "markdown",
      "metadata": {
        "id": "qR6K2LxYZnip",
        "colab_type": "text"
      },
      "source": [
        "Define a linear model (y = x AT + b) for input/output"
      ]
    },
    {
      "cell_type": "code",
      "metadata": {
        "id": "mCPmn9JYZniq",
        "colab_type": "code",
        "colab": {}
      },
      "source": [
        "model = nn.Linear(x_train.shape[1], y_train.shape[1])"
      ],
      "execution_count": 0,
      "outputs": []
    },
    {
      "cell_type": "markdown",
      "metadata": {
        "id": "CidHEDIzZnis",
        "colab_type": "text"
      },
      "source": [
        "Define loss and optimizer"
      ]
    },
    {
      "cell_type": "code",
      "metadata": {
        "id": "sBH1V0tFZnis",
        "colab_type": "code",
        "colab": {}
      },
      "source": [
        "criterion = nn.MSELoss()\n",
        "optimizer = torch.optim.SGD(model.parameters(), lr=LEARNING_RATE)"
      ],
      "execution_count": 0,
      "outputs": []
    },
    {
      "cell_type": "markdown",
      "metadata": {
        "id": "cLc3DZI6Zniu",
        "colab_type": "text"
      },
      "source": [
        "Train the model"
      ]
    },
    {
      "cell_type": "code",
      "metadata": {
        "id": "Fx3m9Pp_Zniw",
        "colab_type": "code",
        "outputId": "b63a309d-0767-4b70-bea9-bd805880b3a5",
        "colab": {
          "base_uri": "https://localhost:8080/",
          "height": 151
        }
      },
      "source": [
        "for epoch in range(NUM_EPOCHS):\n",
        "    \n",
        "    # Convert numpy arrays to torch tensors\n",
        "    inputs  = torch.from_numpy(x_train)\n",
        "    targets = torch.from_numpy(y_train)\n",
        "\n",
        "    # FORWARD PASS\n",
        "    outputs = model(inputs)\n",
        "    loss    = criterion(outputs, targets)\n",
        "    \n",
        "    # BACKWARD AND OPTIMIZE\n",
        "    # zero gradients (at the start of a minibatch)\n",
        "    optimizer.zero_grad()\n",
        "    # computes dloss/dx for every parameter x\n",
        "    loss.backward()\n",
        "    # optimizer.step performs a parameter update based on the current gradient \n",
        "    # (stored in .grad attribute of a parameter) \n",
        "    optimizer.step()\n",
        "    \n",
        "    if (epoch+1) % 10 == 0:\n",
        "        print ('Epoch [{}/{}], Loss: {:.4f}'.format(epoch+1, NUM_EPOCHS, loss.item()))"
      ],
      "execution_count": 8,
      "outputs": [
        {
          "output_type": "stream",
          "text": [
            "Epoch [10/80], Loss: 1.1432\n",
            "Epoch [20/80], Loss: 1.1424\n",
            "Epoch [30/80], Loss: 1.1416\n",
            "Epoch [40/80], Loss: 1.1408\n",
            "Epoch [50/80], Loss: 1.1401\n",
            "Epoch [60/80], Loss: 1.1393\n",
            "Epoch [70/80], Loss: 1.1386\n",
            "Epoch [80/80], Loss: 1.1379\n"
          ],
          "name": "stdout"
        }
      ]
    },
    {
      "cell_type": "markdown",
      "metadata": {
        "id": "AN3OjrxqZniy",
        "colab_type": "text"
      },
      "source": [
        "Plot the fitted line"
      ]
    },
    {
      "cell_type": "code",
      "metadata": {
        "id": "-iYt9kefZniz",
        "colab_type": "code",
        "outputId": "ab8a40e5-4547-4e59-cc50-4cf8a5192ab5",
        "colab": {
          "base_uri": "https://localhost:8080/",
          "height": 269
        }
      },
      "source": [
        "predicted = model(torch.from_numpy(x_train)).detach().numpy()\n",
        "plt.plot(x_train, y_train, 'ro', label='Original data')\n",
        "plt.plot(x_train, predicted, label='Fitted line')\n",
        "plt.legend()\n",
        "plt.show()"
      ],
      "execution_count": 9,
      "outputs": [
        {
          "output_type": "display_data",
          "data": {
            "image/png": "[encoded data removed]",
            "text/plain": [
              "<Figure size 432x288 with 1 Axes>"
            ]
          },
          "metadata": {
            "tags": []
          }
        }
      ]
    },
    {
      "cell_type": "markdown",
      "metadata": {
        "id": "VWuP_H3iZni1",
        "colab_type": "text"
      },
      "source": [
        "Check parameters"
      ]
    },
    {
      "cell_type": "code",
      "metadata": {
        "id": "gLh7YdhtZni2",
        "colab_type": "code",
        "outputId": "028813e4-56f2-4e0b-91db-bda4a221165d",
        "colab": {
          "base_uri": "https://localhost:8080/",
          "height": 84
        }
      },
      "source": [
        "print('w:', model.weight) \n",
        "print('b:', model.bias)"
      ],
      "execution_count": 10,
      "outputs": [
        {
          "output_type": "stream",
          "text": [
            "w: Parameter containing:\n",
            "tensor([[0.7581]], requires_grad=True)\n",
            "b: Parameter containing:\n",
            "tensor([0.9383], requires_grad=True)\n"
          ],
          "name": "stdout"
        }
      ]
    },
    {
      "cell_type": "markdown",
      "metadata": {
        "id": "WgAOMehXZni4",
        "colab_type": "text"
      },
      "source": [
        "And optionally save model checkpoint"
      ]
    },
    {
      "cell_type": "code",
      "metadata": {
        "id": "GMqFZcB9Zni5",
        "colab_type": "code",
        "colab": {}
      },
      "source": [
        "# torch.save(model.state_dict(), 'model.ckpt')"
      ],
      "execution_count": 0,
      "outputs": []
    }
  ]
}