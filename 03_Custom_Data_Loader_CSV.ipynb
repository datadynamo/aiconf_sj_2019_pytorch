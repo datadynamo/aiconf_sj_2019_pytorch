{
  "nbformat": 4,
  "nbformat_minor": 0,
  "metadata": {
    "colab": {
      "name": "03-Custom Data Loader CSV.ipynb",
      "version": "0.3.2",
      "provenance": [],
      "include_colab_link": true
    },
    "language_info": {
      "codemirror_mode": {
        "name": "ipython",
        "version": 3
      },
      "file_extension": ".py",
      "mimetype": "text/x-python",
      "name": "python",
      "nbconvert_exporter": "python",
      "pygments_lexer": "ipython3",
      "version": "3.7.1"
    },
    "kernelspec": {
      "display_name": "Python 3",
      "language": "python",
      "name": "python3"
    }
  },
  "cells": [
    {
      "cell_type": "markdown",
      "metadata": {
        "id": "view-in-github",
        "colab_type": "text"
      },
      "source": [
        "<a href=\"https://colab.research.google.com/github/datadynamo/aiconf_sj_2019_pytorch/blob/master/03_Custom_Data_Loader_CSV.ipynb\" target=\"_parent\"><img src=\"https://colab.research.google.com/assets/colab-badge.svg\" alt=\"Open In Colab\"/></a>"
      ]
    },
    {
      "cell_type": "markdown",
      "metadata": {
        "id": "1Voaf9llHP_P",
        "colab_type": "text"
      },
      "source": [
        "*Accompanying code examples of the book \"Introduction to Artificial Neural Networks and Deep Learning: A Practical Guide with Applications in Python\" by [Sebastian Raschka](https://sebastianraschka.com). All code examples are released under the [MIT license](https://github.com/rasbt/deep-learning-book/blob/master/LICENSE). If you find this content useful, please consider supporting the work by buying a [copy of the book](https://leanpub.com/ann-and-deeplearning).*\n",
        "  \n",
        "Other code examples and content are available on [GitHub](https://github.com/rasbt/deep-learning-book). The PDF and ebook versions of the book are available through [Leanpub](https://leanpub.com/ann-and-deeplearning).\n",
        "\n",
        "This notebook is presented with slight modifications from: https://github.com/rasbt/deep-learning-book/blob/master/code/model_zoo/pytorch_ipynb/custom-data-loader-csv.ipynb\n",
        "#Please buy Sebastian Raschka's awesome book"
      ]
    },
    {
      "cell_type": "markdown",
      "metadata": {
        "id": "VuFsMv_PHP_V",
        "colab_type": "text"
      },
      "source": [
        "# Using PyTorch Dataset Loading Utilities for Custom Datasets (CSV files converted to HDF5)"
      ]
    },
    {
      "cell_type": "markdown",
      "metadata": {
        "id": "5ZCkfT6YHP_W",
        "colab_type": "text"
      },
      "source": [
        "This notebook provides an example for how to load a dataset from an HDF5 file created from a CSV file, using PyTorch's data loading utilities. For a more in-depth discussion, please see the official\n",
        "\n",
        "- [Data Loading and Processing Tutorial](http://pytorch.org/tutorials/beginner/data_loading_tutorial.html)\n",
        "- [torch.utils.data](http://pytorch.org/docs/master/data.html) API documentation\n",
        "\n",
        "An Hierarchical Data Format (HDF) is a convenient way that allows quick access to data instances during minibatch learning if a dataset is too large to fit into memory. The approach outlined in this notebook uses uses the common [HDF5](https://support.hdfgroup.org/HDF5/) format and should be accessible to any programming language or tool with an HDF5 API.\n",
        "\n",
        "**In this example, we are going to use the Iris dataset for illustrative purposes. Let's pretend it's our large training dataset that doesn't fit into memory**.\n",
        "\n"
      ]
    },
    {
      "cell_type": "markdown",
      "metadata": {
        "id": "Gc8SX62aHP_X",
        "colab_type": "text"
      },
      "source": [
        "## Imports"
      ]
    },
    {
      "cell_type": "code",
      "metadata": {
        "id": "PLyc1nLWHP_X",
        "colab_type": "code",
        "colab": {}
      },
      "source": [
        "import pandas as pd\n",
        "import numpy as np\n",
        "import h5py\n",
        "import torch\n",
        "from torch.utils.data import Dataset\n",
        "from torch.utils.data import DataLoader"
      ],
      "execution_count": 0,
      "outputs": []
    },
    {
      "cell_type": "markdown",
      "metadata": {
        "id": "xNHy8wJFHP_Z",
        "colab_type": "text"
      },
      "source": [
        "## Converting a CSV file to HDF5"
      ]
    },
    {
      "cell_type": "markdown",
      "metadata": {
        "id": "VPIRoeR_HP_a",
        "colab_type": "text"
      },
      "source": [
        "In this first step, we are going to process a CSV file (here, Iris) into an HDF5 database:"
      ]
    },
    {
      "cell_type": "code",
      "metadata": {
        "id": "fiRspfpuHP_b",
        "colab_type": "code",
        "colab": {}
      },
      "source": [
        "# suppose this is a large CSV that does not \n",
        "# fit into memory:\n",
        "csv_path = 'https://archive.ics.uci.edu/ml/machine-learning-databases/iris/iris.data'\n",
        "\n",
        "# Get number of lines in the CSV file if it's on your hard drive:\n",
        "#num_lines = subprocess.check_output(['wc', '-l', in_csv])\n",
        "#num_lines = int(nlines.split()[0]) \n",
        "num_lines = 150\n",
        "num_features = 4\n",
        "\n",
        "class_dict = {'Iris-setosa': 0,\n",
        "              'Iris-versicolor': 1,\n",
        "              'Iris-virginica': 2}\n",
        "\n",
        "# use 10,000 or 100,000 or so for large files\n",
        "chunksize = 10\n",
        "\n",
        "# this is your HDF5 database:\n",
        "with h5py.File('iris.h5', 'w') as h5f:\n",
        "    \n",
        "    # use num_features-1 if the csv file has a column header\n",
        "    dset1 = h5f.create_dataset('features',\n",
        "                               shape=(num_lines, num_features),\n",
        "                               compression=None,\n",
        "                               dtype='float32')\n",
        "    dset2 = h5f.create_dataset('labels',\n",
        "                               shape=(num_lines,),\n",
        "                               compression=None,\n",
        "                               dtype='int32')\n",
        "\n",
        "    # change range argument from 0 -> 1 if your csv file contains a column header\n",
        "    for i in range(0, num_lines, chunksize):  \n",
        "\n",
        "        df = pd.read_csv(csv_path,  \n",
        "                header=None,  # no header, define column header manually later\n",
        "                nrows=chunksize, # number of rows to read at each iteration\n",
        "                skiprows=i)   # skip rows that were already read\n",
        "        \n",
        "        df[4] = df[4].map(class_dict)\n",
        "\n",
        "        features = df.values[:, :4]\n",
        "        labels = df.values[:, -1]\n",
        "        \n",
        "        # use i-1 and i-1+10 if csv file has a column header\n",
        "        dset1[i:i+10, :] = features\n",
        "        dset2[i:i+10] = labels[0]"
      ],
      "execution_count": 0,
      "outputs": []
    },
    {
      "cell_type": "markdown",
      "metadata": {
        "id": "7Zbl6GltHP_d",
        "colab_type": "text"
      },
      "source": [
        "After creating the database, let's double-check that everything works correctly:"
      ]
    },
    {
      "cell_type": "code",
      "metadata": {
        "id": "80GLJ_B1HP_d",
        "colab_type": "code",
        "outputId": "e15f04c6-9f47-47ce-efc7-89826d14b993",
        "colab": {
          "base_uri": "https://localhost:8080/",
          "height": 51
        }
      },
      "source": [
        "with h5py.File('iris.h5', 'r') as h5f:\n",
        "    print(h5f['features'].shape)\n",
        "    print(h5f['labels'].shape)"
      ],
      "execution_count": 0,
      "outputs": [
        {
          "output_type": "stream",
          "text": [
            "(150, 4)\n",
            "(150,)\n"
          ],
          "name": "stdout"
        }
      ]
    },
    {
      "cell_type": "code",
      "metadata": {
        "id": "WfVOrPzYHP_h",
        "colab_type": "code",
        "outputId": "5dbef24f-0741-4a8d-f5c7-d9ddb4071959",
        "colab": {
          "base_uri": "https://localhost:8080/",
          "height": 51
        }
      },
      "source": [
        "with h5py.File('iris.h5', 'r') as h5f:\n",
        "    print('Features of entry no. 99:', h5f['features'][99])\n",
        "    print('Class label of entry no. 99:', h5f['labels'][99])"
      ],
      "execution_count": 0,
      "outputs": [
        {
          "output_type": "stream",
          "text": [
            "Features of entry no. 99: [5.7 2.8 4.1 1.3]\n",
            "Class label of entry no. 99: 1\n"
          ],
          "name": "stdout"
        }
      ]
    },
    {
      "cell_type": "markdown",
      "metadata": {
        "id": "PV7MZBJMHP_k",
        "colab_type": "text"
      },
      "source": [
        "## Implementing a Custom Dataset Class"
      ]
    },
    {
      "cell_type": "markdown",
      "metadata": {
        "id": "Tq86B2oDHP_k",
        "colab_type": "text"
      },
      "source": [
        "Now, we implement a custom `Dataset` for reading the training examples. The `__getitem__` method will\n",
        "\n",
        "1. read a single training example from HDF5 based on an `index` (more on batching later)\n",
        "2. return a single training example and it's corresponding label\n",
        "\n",
        "Note that we will keep an open connection to the database for efficiency via `self.h5f = h5py.File(h5_path, 'r')` -- you may want to close it when you are done (more on this later)."
      ]
    },
    {
      "cell_type": "code",
      "metadata": {
        "id": "Wt5C74eTHP_l",
        "colab_type": "code",
        "colab": {}
      },
      "source": [
        "class Hdf5Dataset(Dataset):\n",
        "    \"\"\"Custom Dataset for loading entries from HDF5 databases\"\"\"\n",
        "\n",
        "    def __init__(self, h5_path, transform=None):\n",
        "    \n",
        "        self.h5f = h5py.File(h5_path, 'r')\n",
        "        self.num_entries = self.h5f['labels'].shape[0]\n",
        "        self.transform = transform\n",
        "\n",
        "    def __getitem__(self, index):\n",
        "        \n",
        "        features = self.h5f['features'][index]\n",
        "        label = self.h5f['labels'][index]\n",
        "        if self.transform is not None:\n",
        "            features = self.transform(features)\n",
        "        return features, label\n",
        "\n",
        "    def __len__(self):\n",
        "        return self.num_entries"
      ],
      "execution_count": 0,
      "outputs": []
    },
    {
      "cell_type": "markdown",
      "metadata": {
        "id": "bvxo_jDkHP_o",
        "colab_type": "text"
      },
      "source": [
        "Now that we have created our custom Dataset class, we can initialize a Dataset instance for the training examples using the 'iris.h5' database file. Then, we initialize a `DataLoader` that allows us to read from the dataset."
      ]
    },
    {
      "cell_type": "code",
      "metadata": {
        "id": "dRQFXxBdHP_o",
        "colab_type": "code",
        "colab": {}
      },
      "source": [
        "train_dataset = Hdf5Dataset(h5_path='iris.h5',\n",
        "                            transform=None)\n",
        "\n",
        "train_loader = DataLoader(dataset=train_dataset,\n",
        "                          batch_size=50,\n",
        "                          shuffle=True,\n",
        "                          num_workers=4) "
      ],
      "execution_count": 0,
      "outputs": []
    },
    {
      "cell_type": "markdown",
      "metadata": {
        "id": "suHZpjW3HP_q",
        "colab_type": "text"
      },
      "source": [
        "That's it! Now we can iterate over an epoch using the train_loader as an iterator and use the features and labels from the training dataset for model training as shown in the next section"
      ]
    },
    {
      "cell_type": "markdown",
      "metadata": {
        "id": "NfgCH_xEHP_r",
        "colab_type": "text"
      },
      "source": [
        "## Iterating Through the Custom Dataset"
      ]
    },
    {
      "cell_type": "code",
      "metadata": {
        "id": "76geUdXBHP_r",
        "colab_type": "code",
        "outputId": "2fe65761-44b3-41d3-a76a-423d9274e688",
        "colab": {
          "base_uri": "https://localhost:8080/",
          "height": 272
        }
      },
      "source": [
        "device = torch.device(\"cuda:0\" if torch.cuda.is_available() else \"cpu\")\n",
        "torch.manual_seed(0)\n",
        "\n",
        "num_epochs = 5\n",
        "for epoch in range(num_epochs):\n",
        "\n",
        "    for batch_idx, (x, y) in enumerate(train_loader):\n",
        "        \n",
        "        print('Epoch:', epoch+1, end='')\n",
        "        print(' | Batch index:', batch_idx, end='')\n",
        "        print(' | Batch size:', y.size()[0])\n",
        "        \n",
        "        x = x.to(device)\n",
        "        y = y.to(device)\n",
        "\n",
        "        # do model training on x and y here"
      ],
      "execution_count": 0,
      "outputs": [
        {
          "output_type": "stream",
          "text": [
            "Epoch: 1 | Batch index: 0 | Batch size: 50\n",
            "Epoch: 1 | Batch index: 1 | Batch size: 50\n",
            "Epoch: 1 | Batch index: 2 | Batch size: 50\n",
            "Epoch: 2 | Batch index: 0 | Batch size: 50\n",
            "Epoch: 2 | Batch index: 1 | Batch size: 50\n",
            "Epoch: 2 | Batch index: 2 | Batch size: 50\n",
            "Epoch: 3 | Batch index: 0 | Batch size: 50\n",
            "Epoch: 3 | Batch index: 1 | Batch size: 50\n",
            "Epoch: 3 | Batch index: 2 | Batch size: 50\n",
            "Epoch: 4 | Batch index: 0 | Batch size: 50\n",
            "Epoch: 4 | Batch index: 1 | Batch size: 50\n",
            "Epoch: 4 | Batch index: 2 | Batch size: 50\n",
            "Epoch: 5 | Batch index: 0 | Batch size: 50\n",
            "Epoch: 5 | Batch index: 1 | Batch size: 50\n",
            "Epoch: 5 | Batch index: 2 | Batch size: 50\n"
          ],
          "name": "stdout"
        }
      ]
    },
    {
      "cell_type": "markdown",
      "metadata": {
        "id": "5zMfXjcUHP_u",
        "colab_type": "text"
      },
      "source": [
        "**Remember that we kept an open connection to the HDF5 database in the `Hdf5Dataset` (via `self.h5f = h5py.File(h5_path, 'r')`). Once we are done, we may want to close this connection:**"
      ]
    },
    {
      "cell_type": "code",
      "metadata": {
        "id": "wgXJ_T8_HP_v",
        "colab_type": "code",
        "colab": {}
      },
      "source": [
        "train_dataset.h5f.close()"
      ],
      "execution_count": 0,
      "outputs": []
    },
    {
      "cell_type": "markdown",
      "metadata": {
        "id": "8SxTJ1n9Ih74",
        "colab_type": "text"
      },
      "source": [
        "This notebook is presented with slight modifications from: https://github.com/rasbt/deep-learning-book/blob/master/code/model_zoo/pytorch_ipynb/custom-data-loader-csv.ipynb\n",
        "#Please buy Sebastian Raschka's awesome book\n",
        "https://leanpub.com/ann-and-deeplearning"
      ]
    }
  ]
}